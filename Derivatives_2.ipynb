{
 "cells": [
  {
   "cell_type": "code",
   "execution_count": 1,
   "metadata": {},
   "outputs": [],
   "source": [
    "import math\n",
    "import numpy as np\n",
    "import pandas as pd\n",
    "import matplotlib.pyplot as plt\n",
    "import seaborn as sns\n",
    "from math import log, sqrt, exp\n",
    "from scipy import stats\n",
    "from math import log, sqrt, exp\n",
    "from scipy import stats\n",
    "from scipy.stats import norm\n",
    "import numpy as np\n",
    "from sklearn.linear_model import LinearRegression\n",
    "from sklearn import linear_model\n",
    "import statsmodels.api as sm\n",
    "from statsmodels.regression.linear_model import OLS\n",
    "from statistics import NormalDist\n",
    "\n",
    "class BSM:\n",
    "#class constructor; input: S,vol,r,q\n",
    "    def __init__(self,S0,vol,r,q):\n",
    "        \"\"\"class constructor; input: S0,vol,r,q\"\"\"\n",
    "        self.S, self.vol, self.r, self.q = S0, vol, r, q\n",
    "\n",
    "# alternative constructor; take data from dictionary\n",
    "    @classmethod\n",
    "    def from_dict( cls_, d ):\n",
    "        S=d['S'] if 'S' in d else 100\n",
    "        vol=d['vol'] if 'vol' in d else 0.3\n",
    "        r=d['r'] if 'r' in d else 0\n",
    "        q=d['q'] if 'q' in d else 0\n",
    "        return cls_(S,vol,r,q)\n",
    "    \n",
    "    def discount(self, T):\n",
    "        return np.exp(-(self.r) * T)\n",
    "    \n",
    "    def Binary(self, K, T):\n",
    "        return (1 - self.Pr(K, T)) * 1 * self.discount(T) \n",
    "    \n",
    "    def Bond(self, K, T):\n",
    "        return 1 * self.discount(T) \n",
    "    \n",
    "    def Call(self,K,T):\n",
    "        \"\"\"Calculate the price of Call Option. Inputs: Strike, Time to maturity.\"\"\"\n",
    "        d2=(np.log(self.S / K) + (self.r-self.q - self.vol**2 / 2) * T) / (self.vol * np.sqrt(T));\n",
    "        d1=(np.log(self.S/K) + (self.r -self.q+ self.vol**2 / 2) * T)/(self.vol * np.sqrt(T))\n",
    "        return np.exp(-self.q * T) *self.S * norm.cdf(d1) - K * np.exp(-self.r * T) * norm.cdf(d2)\n",
    "\n",
    "    def Put(self,K,T):\n",
    "        \"\"\"Calculate the price of Put Option. Inputs: Strike, Time to maturity.\"\"\"\n",
    "        d2=(np.log(self.S / K) + (self.r-self.q - self.vol**2 / 2) * T) / (self.vol * np.sqrt(T));\n",
    "        d1=(np.log(self.S/K) + (self.r -self.q+ self.vol**2 / 2) * T)/(self.vol * np.sqrt(T))\n",
    "        return -np.exp(-self.q * T) *self.S * norm.cdf(-d1) + K * np.exp(-self.r * T) * norm.cdf(-d2)\n",
    "\n",
    "    \n",
    "    def DeltaCall(self,K,T):\n",
    "        \"\"\"Calculate the Delta of a Call Option. Inputs: Strike, Time to maturity.\"\"\"\n",
    "        d1=(np.log(self.S/K) + (self.r -self.q+ self.vol**2 / 2) * T)/(self.vol * np.sqrt(T))\n",
    "        return np.exp(-self.q * T) * norm.cdf(d1)\n",
    "\n",
    "    def DeltaPut(self,K,T):\n",
    "        \"\"\"Calculate the Delta of a Put Option. Inputs: Strike, Time to maturity.\"\"\"\n",
    "        d1=(np.log(self.S/K) + (self.r -self.q+ self.vol**2 / 2) * T)/(self.vol * np.sqrt(T))\n",
    "        return np.exp(-self.q * T) * (norm.cdf(d1)-1)\n",
    "    \n",
    "\n",
    "    def Gamma(self,K,T):\n",
    "        \"\"\"Calculate the Gamma of an Option. Inputs: Strike, Time to maturity.\"\"\"\n",
    "        d1=(np.log(self.S/K) + (self.r -self.q+ self.vol**2 / 2) * T)/(self.vol * np.sqrt(T))\n",
    "        return norm.pdf(d1)/(self.S*self.vol*np.sqrt(T))\n",
    "\n",
    "\n",
    "    def Pr(self,K,T):\n",
    "        \"\"\"Calculate the probability of S(T)<K. \"\"\"\n",
    "        d2=(np.log(self.S / K) + (self.r-self.q - self.vol**2 / 2) * T) / (self.vol * np.sqrt(T));\n",
    "        return 1-norm.cdf(d2)\n",
    "\n",
    "\n",
    "    def Vega(self,K,T):\n",
    "        \"\"\"Calculate the vega of Call option. \"\"\"\n",
    "        d1=(np.log(self.S/K) + (self.r -self.q+ self.vol**2 / 2) * T)/(self.vol * np.sqrt(T))\n",
    "        vega = np.exp(-self.q * T)*self.S*np.sqrt(T)*norm.pdf(d1);\n",
    "        return vega"
   ]
  },
  {
   "cell_type": "code",
   "execution_count": 240,
   "metadata": {},
   "outputs": [
    {
     "name": "stdout",
     "output_type": "stream",
     "text": [
      "1)\n",
      "Воспользуемся формулой S_3 = S_1*exp(-lambda(T_2-T_1)), из которой выразим lambda:\n",
      "lambda_hazard_rate = 0.1719 i.e. 17.19 %.\n",
      "\n",
      "2)\n",
      "S_2_5 = 0.8718 i.e. 87.18 %.\n"
     ]
    }
   ],
   "source": [
    "# 1\n",
    "T_1, S_2, T_2, S_3 = 2, 0.95, 3, 0.8\n",
    "T_2_5 = 2.5\n",
    "# lambda - ?\n",
    "# S_2_5 - ?\n",
    "print('1)')\n",
    "print('Воспользуемся формулой S_3 = S_1*exp(-lambda(T_2-T_1)), из которой выразим lambda:')\n",
    "lambda_hazard_rate = np.log(S_3/S_2)/(T_1-T_2)\n",
    "print('lambda_hazard_rate = {0:.4f}'.format(lambda_hazard_rate), 'i.e. {0:.2f}'.format(lambda_hazard_rate*100),'%.')\n",
    "print('')\n",
    "print('2)')\n",
    "S_2_5 = S_2*np.exp(-lambda_hazard_rate*(T_2_5-T_1))\n",
    "print('S_2_5 = {0:.4f}'.format(S_2_5), 'i.e. {0:.2f}'.format(S_2_5*100),'%.')"
   ]
  },
  {
   "cell_type": "code",
   "execution_count": 241,
   "metadata": {},
   "outputs": [
    {
     "name": "stdout",
     "output_type": "stream",
     "text": [
      "Воспользуемся формулой corr = ((s_2)^2 + (s_1)^2 - (s_3)^2)/2*s_2*s_1, тогда\n",
      "Correlation = 0.4667\n"
     ]
    }
   ],
   "source": [
    "# 2\n",
    "s_1 = 0.5 # USDRUB, доллар-рубль\n",
    "s_2 = 0.9 # SSRRUB, акции рубль (Мосбиржа)\n",
    "s_3 = 0.8 # SSSUSD, акции доллар (РТС)\n",
    "# SSSUSD = SSSRUB / USDRUB\n",
    "print('Воспользуемся формулой corr = ((s_2)^2 + (s_1)^2 - (s_3)^2)/2*s_2*s_1, тогда')\n",
    "corr = ((s_2)**2 + (s_1)**2 - (s_3)**2)/(2*s_2*s_1)\n",
    "print('Correlation = {0:.4f}'.format(corr))"
   ]
  },
  {
   "cell_type": "code",
   "execution_count": 242,
   "metadata": {},
   "outputs": [
    {
     "name": "stdout",
     "output_type": "stream",
     "text": [
      "1)\n",
      "Доверительный интервал (mu - 1.96*(sigma/sqrt(n)) ; mu - 1.96*(sigma/sqrt(n))), то есть:\n",
      "(2902.0, 3098.0)\n",
      "\n",
      "2)\n",
      "Из уравнения 2*1.96*(sigma/sqrt(x)) = 20 выразим x, x = (2*1.96*sigma/20)^2, то есть:\n",
      "Нужно сделать 960400.0 симуляций.\n"
     ]
    }
   ],
   "source": [
    "# 3\n",
    "n, mu, sigma = 10000, 3000, 5000 \n",
    "print('1)')\n",
    "print('Доверительный интервал (mu - 1.96*(sigma/sqrt(n)) ; mu - 1.96*(sigma/sqrt(n))), то есть:')\n",
    "a = mu - 1.96*(sigma/np.sqrt(n))\n",
    "b = mu + 1.96*(sigma/np.sqrt(n))\n",
    "print(f'({a}, {b})')\n",
    "print('')\n",
    "print('2)')\n",
    "print('Из уравнения 2*1.96*(sigma/sqrt(x)) = 20 выразим x, x = (2*1.96*sigma/20)^2, то есть:')\n",
    "x = (2*1.96*sigma/20)**2\n",
    "print(f'Нужно сделать {x} симуляций.')"
   ]
  },
  {
   "cell_type": "code",
   "execution_count": 243,
   "metadata": {},
   "outputs": [
    {
     "name": "stdout",
     "output_type": "stream",
     "text": [
      "Call_1 = 11.9322\n",
      "Call_2 = 9.4691\n",
      "1% VaR = 2.4631 i.e. 2.46 USD.\n"
     ]
    }
   ],
   "source": [
    "# 4\n",
    "S_0, sigma, r, K, T, div = 100, 0.3, 0.02, 102, 1, 0\n",
    "m, s = 0, 0.02\n",
    "# 1% VaR - ?\n",
    "# y = mu + x*sigma, y ~ N(m, sigma^2), x ~ N(0, 1) \n",
    "A = BSM(S_0, sigma, r, div)\n",
    "Call_1 = A.Call(K, T)\n",
    "print('Call_1 = {0:.4f}'.format(Call_1))\n",
    "# Ф_mu_r^2 (x) = Ф_0_1 ((x-mu)/r)\n",
    "# (x-mu)/r = -2.33 => x = -2.33*r + mu\n",
    "x = -2.33*r\n",
    "S_1 = S_0*(1+x)\n",
    "B = BSM(S_1, sigma, r, div)\n",
    "Call_2 = B.Call(K, T)\n",
    "print('Call_2 = {0:.4f}'.format(Call_2))\n",
    "VaR = Call_1 - Call_2\n",
    "print('1% VaR = {0:.4f}'.format(VaR), 'i.e. {0:.2f}'.format(VaR),'USD.')"
   ]
  },
  {
   "cell_type": "code",
   "execution_count": 247,
   "metadata": {},
   "outputs": [
    {
     "name": "stdout",
     "output_type": "stream",
     "text": [
      "1)\n",
      "Воспользуемся формулой p = (1 - (1+r_g)^T/(1+r_c)^T) / (1-R), тогда\n",
      "Вероятность дефолта p = 0.4212\n",
      "Вероятность не дефолта 1-p = 0.5788\n",
      "\n",
      "2)\n",
      "Воспользуемся формулой 1-p = e^(-lambda*5), откуда\n",
      "Hazard rate = 0.1094 i.e. 10.94 %.\n",
      "\n",
      "3)\n",
      "Справедливый купон = 0.0693 i.e. 6.93 %.\n",
      "\n",
      "4)\n",
      "Воспользуемся вторым способом из лекции и сравним результаты,\n",
      "e^(-5*lambda) = 1 - 5*lambda, тогда\n",
      "Референсный эмитент доживёт до 5 года с вероятностью = 0.4531\n",
      "Вероятность, что произойдет дефолт = 0.5469\n",
      "Справедливый купон (2 способ) = 0.0656 i.e. 6.56 %.\n"
     ]
    }
   ],
   "source": [
    "# 5\n",
    "T, g = 5, 0\n",
    "c, R = 0.06, 0.4\n",
    "# p - ? (вероятность дефолта)\n",
    "# l_h_r - ?\n",
    "# fair_c - ? (CDS)\n",
    "\n",
    "print('1)')\n",
    "print('Воспользуемся формулой p = (1 - (1+r_g)^T/(1+r_c)^T) / (1-R), тогда')\n",
    "p = (1 - (1 + g)**T/(1 + c)**T)/(1-R)\n",
    "print('Вероятность дефолта p = {0:.4f}'.format(p))\n",
    "print('Вероятность не дефолта 1-p = {0:.4f}'.format(1-p))\n",
    "print('')\n",
    "print('2)')\n",
    "print('Воспользуемся формулой 1-p = e^(-lambda*5), откуда')\n",
    "l_h_r = -np.log(1-p)/5\n",
    "print('Hazard rate = {0:.4f}'.format(l_h_r), 'i.e. {0:.2f}'.format(l_h_r*100),'%.')\n",
    "print('')\n",
    "print('3)')\n",
    "fair_c = ((1-R)*(1-np.exp(-5*l_h_r)))/(np.exp(-5*l_h_r) + np.exp(-4*l_h_r) + np.exp(-3*l_h_r) + np.exp(-2*l_h_r) + np.exp(-1*l_h_r))\n",
    "print('Справедливый купон = {0:.4f}'.format(fair_c), 'i.e. {0:.2f}'.format(fair_c*100),'%.')\n",
    "print('')\n",
    "print('4)')\n",
    "print('Воспользуемся вторым способом из лекции и сравним результаты,')\n",
    "print('e^(-5*lambda) = 1 - 5*lambda, тогда')\n",
    "p_s = 1 - 5*l_h_r \n",
    "print('Референсный эмитент доживёт до 5 года с вероятностью = {0:.4f}'.format(p_s))\n",
    "print('Вероятность, что произойдет дефолт = {0:.4f}'.format(1-p_s))\n",
    "fair_c_2 = (1-p_s)*(1-R)/5\n",
    "print('Справедливый купон (2 способ) = {0:.4f}'.format(fair_c_2), 'i.e. {0:.2f}'.format(fair_c_2*100),'%.')"
   ]
  },
  {
   "cell_type": "code",
   "execution_count": 248,
   "metadata": {},
   "outputs": [
    {
     "name": "stdout",
     "output_type": "stream",
     "text": [
      "1)\n",
      "Воспользуемся формулой p = (1 - (1+r_g)^T/(1+r_c)^T) / (1-R), тогда\n",
      "Вероятность дефолта p = 0.1793\n",
      "Вероятность не дефолта 1-p = 0.8207\n",
      "\n",
      "2)\n",
      "Воспользуемся формулой 1-p = e^(-lambda*5), откуда\n",
      "Hazard rate = 0.0395 i.e. 3.95 %.\n",
      "\n",
      "3)\n",
      "Пусть продавец заплатит x % номинала, тогда\n",
      "1/100 * (e^(-1*lambda)+...+e^(-5*lambda)) + x = (1-R)*(1-e^(-5*lambda)), откуда\n",
      "Единоразовая выплата от номинала = 0.0273 i.e. 2.73 %.\n"
     ]
    }
   ],
   "source": [
    "# 6\n",
    "T, g = 5, 0\n",
    "c, R = 0.015, 0.6\n",
    "\n",
    "# p - ? (вероятность дефолта)\n",
    "# l_h_r - ?\n",
    "# fair_c - ? (CDS)\n",
    "\n",
    "print('1)')\n",
    "print('Воспользуемся формулой p = (1 - (1+r_g)^T/(1+r_c)^T) / (1-R), тогда')\n",
    "p = (1 - (1 + g)**T/(1 + c)**T)/(1-R)\n",
    "print('Вероятность дефолта p = {0:.4f}'.format(p))\n",
    "print('Вероятность не дефолта 1-p = {0:.4f}'.format(1-p))\n",
    "print('')\n",
    "print('2)')\n",
    "print('Воспользуемся формулой 1-p = e^(-lambda*5), откуда')\n",
    "l_h_r = -np.log(1-p)/5\n",
    "print('Hazard rate = {0:.4f}'.format(l_h_r), 'i.e. {0:.2f}'.format(l_h_r*100),'%.')\n",
    "print('')\n",
    "print('3)')\n",
    "print('Пусть продавец заплатит x % номинала, тогда')\n",
    "print('1/100 * (e^(-1*lambda)+...+e^(-5*lambda)) + x = (1-R)*(1-e^(-5*lambda)), откуда')\n",
    "x = (1-R)*(1-np.exp(-5*l_h_r))-(np.exp(-5*l_h_r) + np.exp(-4*l_h_r) + np.exp(-3*l_h_r) + np.exp(-2*l_h_r) + np.exp(-1*l_h_r))/100\n",
    "print('Единоразовая выплата от номинала = {0:.4f}'.format(x), 'i.e. {0:.2f}'.format(x*100),'%.')"
   ]
  },
  {
   "cell_type": "code",
   "execution_count": 249,
   "metadata": {},
   "outputs": [
    {
     "name": "stdout",
     "output_type": "stream",
     "text": [
      "1)\n",
      "Текущий портфель в рублях = 1100000.00\n",
      "Текущий однодневный 1% VaR = 128150.00\n",
      "\n",
      "2)\n",
      "Наш новый портфель состоит из 10 000 EUR + x USD (в конце получим x со знаком), тогда\n",
      "-4139.8, то есть шортим 4139.8 USD.\n"
     ]
    }
   ],
   "source": [
    "# 7\n",
    "import itertools\n",
    "\n",
    "A, S_EUR, S_USD = 10000, 110, 100\n",
    "mu, sigma_EUR, sigma_USD = 0, 0.05, 0.04\n",
    "corr = 0.8\n",
    "print('1)')\n",
    "A_RUB = A*S_EUR\n",
    "print('Текущий портфель в рублях = {0:.2f}'.format(A_RUB))\n",
    "VaR_1_EUR_p = -2.33*sigma_EUR\n",
    "Var_1_RUB = np.abs(VaR_1_EUR_p*A_RUB)\n",
    "print('Текущий однодневный 1% VaR = {0:.2f}'.format(Var_1_RUB))\n",
    "print('')\n",
    "print('2)')\n",
    "print('Наш новый портфель состоит из 10 000 EUR + x USD (в конце получим x со знаком), тогда')\n",
    "\n",
    "for x in range(-10000, 10000):\n",
    "    \n",
    "    x -= 0.8\n",
    "    # epsilon = 0.000000000000000000000001\n",
    "    a = 10000*110/(10000*110 + x*100)\n",
    "    b = x*100/(10000*110 + x*100)\n",
    "    #print(f'вес EUR = {a}, вес USD = {b}.')\n",
    "    #print('')\n",
    "    #print('Далее найдем вариацию составного портфеля:')\n",
    "    Var_new =  (a**2)*(sigma_EUR**2) + (b**2)*(sigma_USD**2) + 2*a*b*corr*sigma_EUR*sigma_USD\n",
    "    #print(f'Var_new = {Var_new}, тогда')\n",
    "    #print('')\n",
    "    sigma_new = np.sqrt(Var_new)\n",
    "    #print(f'{sigma_new}, тогда')\n",
    "    #print('')\n",
    "    VaR_1_new_p = 2.33*sigma_new\n",
    "    #print(f'VaR_1_new_p = 2.33*sigma_new, т.е. {VaR_1_new_p}')\n",
    "    res = VaR_1_new_p*(10000*110 + x*100) \n",
    "    \n",
    "    if int(res) == 100000: #> 100000-epsilon and int(res) < 100000+epsilon:\n",
    "        print(f'{x}, то есть шортим {-x} USD.')     "
   ]
  },
  {
   "cell_type": "code",
   "execution_count": null,
   "metadata": {},
   "outputs": [],
   "source": []
  }
 ],
 "metadata": {
  "kernelspec": {
   "display_name": "Python 3",
   "language": "python",
   "name": "python3"
  },
  "language_info": {
   "codemirror_mode": {
    "name": "ipython",
    "version": 3
   },
   "file_extension": ".py",
   "mimetype": "text/x-python",
   "name": "python",
   "nbconvert_exporter": "python",
   "pygments_lexer": "ipython3",
   "version": "3.8.6"
  }
 },
 "nbformat": 4,
 "nbformat_minor": 4
}
